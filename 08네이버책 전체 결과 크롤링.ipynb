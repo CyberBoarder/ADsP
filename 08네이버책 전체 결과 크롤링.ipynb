{
 "cells": [
  {
   "cell_type": "code",
   "execution_count": 1,
   "metadata": {
    "ExecuteTime": {
     "end_time": "2021-11-02T06:17:42.877375Z",
     "start_time": "2021-11-02T06:17:42.287887Z"
    }
   },
   "outputs": [],
   "source": [
    "import requests\n",
    "from bs4 import BeautifulSoup as bs\n",
    "import pandas as pd\n",
    "import time"
   ]
  },
  {
   "cell_type": "code",
   "execution_count": 2,
   "metadata": {
    "ExecuteTime": {
     "end_time": "2021-11-02T06:17:42.892835Z",
     "start_time": "2021-11-02T06:17:42.879848Z"
    }
   },
   "outputs": [],
   "source": [
    "def clean(index, text):\n",
    "    result = []\n",
    "    if index != 2:\n",
    "        result .append(text.strip().replace(\"\\xa0\", \" \").replace(\"\\n\", \" \").replace(\"\\t\", \" \").replace(\"\\r\", \" \").replace(\"|\", \" \").replace(\"  \",\" \").split())\n",
    "    elif index == 2:\n",
    "        result.append(text.strip().replace(\"\\xa0\", \" \").replace(\"\\n\", \" \").replace(\"\\t\", \" \").replace(\"\\r\", \" \").replace(\"|\", \" \").replace(\"  \",\" \"))\n",
    "    return result"
   ]
  },
  {
   "cell_type": "code",
   "execution_count": null,
   "metadata": {
    "ExecuteTime": {
     "end_time": "2021-11-02T06:21:51.381694Z",
     "start_time": "2021-11-02T06:17:42.895280Z"
    },
    "scrolled": true
   },
   "outputs": [
    {
     "name": "stdout",
     "output_type": "stream",
     "text": [
      "1 / 80\n",
      "2 / 80\n",
      "3 / 80\n",
      "4 / 80\n",
      "5 / 80\n",
      "6 / 80\n",
      "7 / 80\n",
      "8 / 80\n",
      "9 / 80\n",
      "10 / 80\n",
      "11 / 80\n",
      "12 / 80\n",
      "13 / 80\n",
      "14 / 80\n",
      "15 / 80\n",
      "16 / 80\n",
      "17 / 80\n",
      "18 / 80\n",
      "19 / 80\n",
      "20 / 80\n",
      "21 / 80\n",
      "22 / 80\n",
      "23 / 80\n",
      "24 / 80\n",
      "25 / 80\n",
      "26 / 80\n",
      "27 / 80\n",
      "28 / 80\n",
      "29 / 80\n",
      "30 / 80\n",
      "31 / 80\n",
      "32 / 80\n",
      "33 / 80\n",
      "34 / 80\n",
      "35 / 80\n"
     ]
    }
   ],
   "source": [
    "keyword = \"파이썬\"\n",
    "page = 1\n",
    "select_books = []\n",
    "while True:\n",
    "    url = \"https://book.naver.com/search/search.naver\"\n",
    "    payload = {'sm' : 'sta_hty.book', 'sug' : '', 'where' : 'nexearch', 'query' : keyword, 'page' : page}\n",
    "\n",
    "    r = requests.get(url, params=payload)\n",
    "    r.status_code\n",
    "#     print(r.url)\n",
    "    raw_contents = r.text\n",
    "    soup = bs(raw_contents, \"lxml\")\n",
    "    tnum_temp = soup.select_one(\".num.num2\")   #총 검색된 책의 수가 담긴 태그 클래스\n",
    "    tnum_temp2 = tnum_temp.select_one(\"strong\").text #총 검색된 책의 수\n",
    "    \n",
    "    \n",
    "\n",
    "    book_list = soup.select(\"ul.basic > li\")  # 책 한 권 정보가 있는 박스\n",
    "    for items in book_list:\n",
    "        book =[]\n",
    "        title = clean(2, items.select_one(\"dt\").get_text())\n",
    "        book.append(title[0])\n",
    "        for index, item in enumerate(items.select(\"dd\")):\n",
    "            item_contents = clean(index, item.get_text())\n",
    "            book.append(item_contents[0])\n",
    "        select_books.append(book)\n",
    "#     print(select_books)\n",
    "    \n",
    "    #페이지 계산 \n",
    "    total_number = int(tnum_temp2[:-1])\n",
    "    total_pages =  total_number // 20\n",
    "    print(page, \"/\", total_pages)\n",
    "    \n",
    "    # 총페이지를 넘어가면 프로그램 끝냄\n",
    "    if page <= total_pages:\n",
    "        page += 1\n",
    "        time.sleep(3)\n",
    "    else:\n",
    "        break \n",
    "        \n",
    "    "
   ]
  },
  {
   "cell_type": "code",
   "execution_count": null,
   "metadata": {
    "ExecuteTime": {
     "end_time": "2021-11-02T06:21:51.411585Z",
     "start_time": "2021-11-02T06:21:51.383657Z"
    }
   },
   "outputs": [],
   "source": [
    "len(select_books)"
   ]
  },
  {
   "cell_type": "code",
   "execution_count": null,
   "metadata": {
    "ExecuteTime": {
     "end_time": "2021-11-02T06:21:51.426543Z",
     "start_time": "2021-11-02T06:21:51.413578Z"
    }
   },
   "outputs": [],
   "source": [
    "df = pd.DataFrame(select_books)"
   ]
  },
  {
   "cell_type": "code",
   "execution_count": null,
   "metadata": {
    "ExecuteTime": {
     "end_time": "2021-11-02T06:21:51.456462Z",
     "start_time": "2021-11-02T06:21:51.428537Z"
    }
   },
   "outputs": [],
   "source": [
    "df.head(10)"
   ]
  },
  {
   "cell_type": "code",
   "execution_count": null,
   "metadata": {},
   "outputs": [],
   "source": [
    "from datetime import date as dt"
   ]
  },
  {
   "cell_type": "code",
   "execution_count": null,
   "metadata": {},
   "outputs": [],
   "source": [
    "today =  dt.today()\n",
    "today"
   ]
  },
  {
   "cell_type": "code",
   "execution_count": null,
   "metadata": {},
   "outputs": [],
   "source": [
    "today = str(today)\n",
    "today"
   ]
  },
  {
   "cell_type": "code",
   "execution_count": null,
   "metadata": {},
   "outputs": [],
   "source": [
    "df.to_excel(\"book_search_result{0}.xlsx\".format(today), index=False, engine=\"openpyxl\")"
   ]
  },
  {
   "cell_type": "code",
   "execution_count": null,
   "metadata": {},
   "outputs": [],
   "source": []
  },
  {
   "cell_type": "code",
   "execution_count": null,
   "metadata": {},
   "outputs": [],
   "source": []
  },
  {
   "cell_type": "code",
   "execution_count": null,
   "metadata": {},
   "outputs": [],
   "source": []
  },
  {
   "cell_type": "code",
   "execution_count": null,
   "metadata": {},
   "outputs": [],
   "source": []
  },
  {
   "cell_type": "code",
   "execution_count": null,
   "metadata": {},
   "outputs": [],
   "source": []
  },
  {
   "cell_type": "code",
   "execution_count": null,
   "metadata": {},
   "outputs": [],
   "source": []
  },
  {
   "cell_type": "code",
   "execution_count": null,
   "metadata": {},
   "outputs": [],
   "source": []
  }
 ],
 "metadata": {
  "kernelspec": {
   "display_name": "Python 3 (ipykernel)",
   "language": "python",
   "name": "python3"
  },
  "language_info": {
   "codemirror_mode": {
    "name": "ipython",
    "version": 3
   },
   "file_extension": ".py",
   "mimetype": "text/x-python",
   "name": "python",
   "nbconvert_exporter": "python",
   "pygments_lexer": "ipython3",
   "version": "3.9.12"
  }
 },
 "nbformat": 4,
 "nbformat_minor": 4
}
